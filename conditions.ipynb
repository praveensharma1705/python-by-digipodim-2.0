{
 "cells": [
  {
   "attachments": {},
   "cell_type": "markdown",
   "metadata": {},
   "source": [
    "True values\n",
    "\n",
    "True\n",
    "any non zero numbers\n",
    "any non empty string\n",
    "any non empty data structure\n",
    "\n",
    "False values\n",
    "0\n",
    "False\n",
    "empty string\n",
    "empty data structure\n",
    "Block of code ''' keyword(expression): statement 1 statement 2 ..... statement n\n",
    "\n",
    "statement outside block ''' 4 spaces or 1 tab = indentation"
   ]
  },
  {
   "cell_type": "code",
   "execution_count": 1,
   "metadata": {},
   "outputs": [
    {
     "name": "stdout",
     "output_type": "stream",
     "text": [
      "X is bigger than 25\n"
     ]
    }
   ],
   "source": [
    "x = 30\n",
    "if(x > 25):\n",
    "    print(\"X is bigger than 25\")"
   ]
  },
  {
   "cell_type": "code",
   "execution_count": 3,
   "metadata": {},
   "outputs": [
    {
     "name": "stdout",
     "output_type": "stream",
     "text": [
      "x is smaller than or equal to 10\n"
     ]
    }
   ],
   "source": [
    "x = int(input(\"Enter the number: \"))\n",
    "if(x > 10):\n",
    "    print(\"x is bigger than 10\")\n",
    "if(x > 50):\n",
    "    print(\"x is bigger than 50\")\n",
    "if(x > 100):\n",
    "    print(\"X is bigger than 100\")\n",
    "if( x <= 10):\n",
    "    print(\"x is smaller than or equal to 10\")"
   ]
  },
  {
   "cell_type": "code",
   "execution_count": 4,
   "metadata": {},
   "outputs": [
    {
     "name": "stdout",
     "output_type": "stream",
     "text": [
      "10 is even number\n"
     ]
    }
   ],
   "source": [
    "#Write a program to check a number is even or odd.\n",
    "\n",
    "num = int(input(\"Enter the number: \"))\n",
    "if(num % 2 == 0):\n",
    "    print(f'{num} is even number')\n",
    "else:\n",
    "    print(f'{num} is odd number')"
   ]
  },
  {
   "cell_type": "code",
   "execution_count": 5,
   "metadata": {},
   "outputs": [
    {
     "name": "stdout",
     "output_type": "stream",
     "text": [
      "c = 45 is bigger than a and b\n"
     ]
    }
   ],
   "source": [
    "#Wap to check the number a is bigger or not out of three numbers.\n",
    "\n",
    "a= int(input(\"Enter the number1: \"))\n",
    "b= int(input(\"enter the number 2: \"))\n",
    "c = int(input(\"enter the number 3: \"))\n",
    "if a > b and a > c:\n",
    "    print(f'a = {a} is bigger than b and c')\n",
    "elif b > a and b > c:\n",
    "    print(f'b = {b} is bigger than a and c')\n",
    "else:\n",
    "    print(f'c = {c} is bigger than a and b')"
   ]
  },
  {
   "cell_type": "code",
   "execution_count": 7,
   "metadata": {},
   "outputs": [
    {
     "name": "stdout",
     "output_type": "stream",
     "text": [
      "❎ username must be alphabetic\n"
     ]
    }
   ],
   "source": [
    "#WAP to check a username and password is valid or not\n",
    "\n",
    "username = input(\"enter your username: \")\n",
    "pwd = input(\"enter your password: \")\n",
    "if len(username) < 3:\n",
    "    print('❎ useranme must be at least 3 characters')\n",
    "elif len(pwd) < 8:\n",
    "    print('❎ password must be at least 8 characters')\n",
    "elif not username.isalpha():\n",
    "    print('❎ username must be alphabetic')\n",
    "else:\n",
    "    print('username and password are valid')"
   ]
  },
  {
   "attachments": {},
   "cell_type": "markdown",
   "metadata": {},
   "source": [
    "# Match-case (python 3.10)\n",
    "it's used for checking multiple conditions of a single variable\n",
    "\n",
    "''' match variable: case value1: statements case value2: statements case _: statements '''"
   ]
  },
  {
   "cell_type": "code",
   "execution_count": 9,
   "metadata": {},
   "outputs": [
    {
     "ename": "IndentationError",
     "evalue": "unexpected indent (878752242.py, line 2)",
     "output_type": "error",
     "traceback": [
      "\u001b[1;36m  Input \u001b[1;32mIn [9]\u001b[1;36m\u001b[0m\n\u001b[1;33m    match day:\u001b[0m\n\u001b[1;37m    ^\u001b[0m\n\u001b[1;31mIndentationError\u001b[0m\u001b[1;31m:\u001b[0m unexpected indent\n"
     ]
    }
   ],
   "source": [
    "day = input(\"enter the day: \")\n",
    " match day: \n",
    "    case 'saturday':\n",
    "        print(\"today is saturday\")\n",
    "    case 'sunday':\n",
    "        print(\"today is sunday\")\n",
    "    case 'monday':\n",
    "        print(\"today is monday\")\n",
    "    case 'tuesday':\n",
    "        print(\"today is tuesday\")\n",
    "    case 'thursday':\n",
    "        print(\"today is thursday\")\n",
    "    case _:\n",
    "        print(\"invalid day\")"
   ]
  },
  {
   "cell_type": "code",
   "execution_count": null,
   "metadata": {},
   "outputs": [],
   "source": []
  }
 ],
 "metadata": {
  "kernelspec": {
   "display_name": "base",
   "language": "python",
   "name": "python3"
  },
  "language_info": {
   "codemirror_mode": {
    "name": "ipython",
    "version": 3
   },
   "file_extension": ".py",
   "mimetype": "text/x-python",
   "name": "python",
   "nbconvert_exporter": "python",
   "pygments_lexer": "ipython3",
   "version": "3.9.12"
  },
  "orig_nbformat": 4
 },
 "nbformat": 4,
 "nbformat_minor": 2
}
