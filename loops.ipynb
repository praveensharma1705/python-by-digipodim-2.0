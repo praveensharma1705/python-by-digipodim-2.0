{
 "cells": [
  {
   "cell_type": "code",
   "execution_count": 15,
   "metadata": {},
   "outputs": [
    {
     "name": "stdout",
     "output_type": "stream",
     "text": [
      "10\n"
     ]
    }
   ],
   "source": [
    "movies = ['Pihu', 'Harry Potter', 'Kerala story','Wednesday','Dark Knight','Pathan','Fast Five','Titanic','Bahubali','Anabella']\n",
    "print(len(movies))"
   ]
  },
  {
   "cell_type": "code",
   "execution_count": 16,
   "metadata": {},
   "outputs": [
    {
     "name": "stdout",
     "output_type": "stream",
     "text": [
      "Pihu\n",
      "Harry Potter\n",
      "Kerala story\n",
      "Wednesday\n",
      "Dark Knight\n",
      "Pathan\n",
      "Fast Five\n",
      "Titanic\n",
      "Bahubali\n",
      "Anabella\n"
     ]
    }
   ],
   "source": [
    "#For loop\n",
    "\n",
    "for title in movies:\n",
    "    print(title)\n"
   ]
  },
  {
   "cell_type": "code",
   "execution_count": 17,
   "metadata": {},
   "outputs": [
    {
     "name": "stdout",
     "output_type": "stream",
     "text": [
      "Pihu                 4 chars\n",
      "Harry Potter         12 chars\n",
      "Kerala story         12 chars\n",
      "Wednesday            9 chars\n",
      "Dark Knight          11 chars\n",
      "Pathan               6 chars\n",
      "Fast Five            9 chars\n",
      "Titanic              7 chars\n",
      "Bahubali             8 chars\n",
      "Anabella             8 chars\n"
     ]
    }
   ],
   "source": [
    "for title in movies:\n",
    "    print(f'{title:20} {len(title)} chars')"
   ]
  },
  {
   "cell_type": "code",
   "execution_count": 18,
   "metadata": {},
   "outputs": [
    {
     "name": "stdout",
     "output_type": "stream",
     "text": [
      "Harry Potter\n",
      "Kerala story\n",
      "Wednesday\n",
      "Dark Knight\n",
      "Pathan\n",
      "Fast Five\n",
      "Titanic\n",
      "Bahubali\n",
      "Anabella\n"
     ]
    }
   ],
   "source": [
    "for title in movies:\n",
    "    if('a' in title):\n",
    "        print(title)"
   ]
  },
  {
   "cell_type": "code",
   "execution_count": 19,
   "metadata": {},
   "outputs": [
    {
     "name": "stdout",
     "output_type": "stream",
     "text": [
      "Harry Potter\n",
      "Kerala story\n",
      "Wednesday\n",
      "Dark Knight\n",
      "Pathan\n",
      "Fast Five\n",
      "Titanic\n",
      "Bahubali\n",
      "Anabella\n"
     ]
    }
   ],
   "source": [
    "for title in movies:\n",
    "    if('a' in title or 'e' in title):\n",
    "        print(title)"
   ]
  },
  {
   "cell_type": "code",
   "execution_count": 20,
   "metadata": {},
   "outputs": [
    {
     "name": "stdout",
     "output_type": "stream",
     "text": [
      "10\n"
     ]
    }
   ],
   "source": [
    "#nested loops\n",
    "books = [\n",
    "    ['The India Story','Bimal Jalal',10],\n",
    "    ['A place called home','Preeti shenoy',9],\n",
    "    ['Lal salam','Smriti Irani',8],\n",
    "    ['Queen of fire','Devika Rangachari',10],\n",
    "    ['The maverick effect','Harish Mehta',10],\n",
    "    ['Monsoon','Sahitya Akademi',9],\n",
    "    ['Tomb sand','Geetenjali shree',10],\n",
    "    ['Fearless Governance','Dr.Kiran bedi',9],\n",
    "    ['A nation to protect','Priyam Gandhi',9],\n",
    "    ['Unfinished','Priyanka chopra Jonas',10],\n",
    "]\n",
    "print(len(books))"
   ]
  },
  {
   "cell_type": "code",
   "execution_count": 21,
   "metadata": {},
   "outputs": [
    {
     "name": "stdout",
     "output_type": "stream",
     "text": [
      "The India Story\n",
      "Bimal Jalal\n",
      "10\n",
      "\n",
      "A place called home\n",
      "Preeti shenoy\n",
      "9\n",
      "\n",
      "Lal salam\n",
      "Smriti Irani\n",
      "8\n",
      "\n",
      "Queen of fire\n",
      "Devika Rangachari\n",
      "10\n",
      "\n",
      "The maverick effect\n",
      "Harish Mehta\n",
      "10\n",
      "\n",
      "Monsoon\n",
      "Sahitya Akademi\n",
      "9\n",
      "\n",
      "Tomb sand\n",
      "Geetenjali shree\n",
      "10\n",
      "\n",
      "Fearless Governance\n",
      "Dr.Kiran bedi\n",
      "9\n",
      "\n",
      "A nation to protect\n",
      "Priyam Gandhi\n",
      "9\n",
      "\n",
      "Unfinished\n",
      "Priyanka chopra Jonas\n",
      "10\n",
      "\n"
     ]
    }
   ],
   "source": [
    "for book in books:\n",
    "    for field in book:\n",
    "        print(field)\n",
    "    print()"
   ]
  },
  {
   "cell_type": "code",
   "execution_count": 22,
   "metadata": {},
   "outputs": [
    {
     "name": "stdout",
     "output_type": "stream",
     "text": [
      "title: The India Story\n",
      "author: Bimal Jalal\n",
      "rating: 10\n",
      "\n",
      "title: A place called home\n",
      "author: Preeti shenoy\n",
      "rating: 9\n",
      "\n",
      "title: Lal salam\n",
      "author: Smriti Irani\n",
      "rating: 8\n",
      "\n",
      "title: Queen of fire\n",
      "author: Devika Rangachari\n",
      "rating: 10\n",
      "\n",
      "title: The maverick effect\n",
      "author: Harish Mehta\n",
      "rating: 10\n",
      "\n",
      "title: Monsoon\n",
      "author: Sahitya Akademi\n",
      "rating: 9\n",
      "\n",
      "title: Tomb sand\n",
      "author: Geetenjali shree\n",
      "rating: 10\n",
      "\n",
      "title: Fearless Governance\n",
      "author: Dr.Kiran bedi\n",
      "rating: 9\n",
      "\n",
      "title: A nation to protect\n",
      "author: Priyam Gandhi\n",
      "rating: 9\n",
      "\n",
      "title: Unfinished\n",
      "author: Priyanka chopra Jonas\n",
      "rating: 10\n",
      "\n"
     ]
    }
   ],
   "source": [
    "for book in books:\n",
    "    print(f'title: {book[0]}')\n",
    "    print(f'author: {book[1]}')\n",
    "    print(f'rating: {book[2]}')\n",
    "    print()"
   ]
  },
  {
   "cell_type": "code",
   "execution_count": 23,
   "metadata": {},
   "outputs": [
    {
     "name": "stdout",
     "output_type": "stream",
     "text": [
      "title: The India Story\n",
      "title: A place called home\n",
      "title: Lal salam\n",
      "title: Queen of fire\n",
      "title: The maverick effect\n",
      "title: Monsoon\n",
      "title: Tomb sand\n",
      "title: Fearless Governance\n",
      "title: A nation to protect\n",
      "title: Unfinished\n"
     ]
    }
   ],
   "source": [
    "for book in books:\n",
    "    print(f'title: {book[0]}')"
   ]
  },
  {
   "cell_type": "code",
   "execution_count": 3,
   "metadata": {},
   "outputs": [
    {
     "name": "stdout",
     "output_type": "stream",
     "text": [
      "239\n",
      "530\n",
      "103\n",
      "600\n",
      "100\n",
      "400\n"
     ]
    }
   ],
   "source": [
    "prices = [239,530,103,600,100,400,None,400,99]\n",
    "\n",
    "for price in prices:\n",
    "    if price is None:\n",
    "        break\n",
    "    print(price)"
   ]
  },
  {
   "cell_type": "code",
   "execution_count": 6,
   "metadata": {},
   "outputs": [
    {
     "ename": "TypeError",
     "evalue": "'int' object is not callable",
     "output_type": "error",
     "traceback": [
      "\u001b[1;31m---------------------------------------------------------------------------\u001b[0m",
      "\u001b[1;31mTypeError\u001b[0m                                 Traceback (most recent call last)",
      "\u001b[1;32mc:\\Users\\Lenovo\\OneDrive\\Documents\\python by digipodim 2.0\\loops.ipynb Cell 11\u001b[0m in \u001b[0;36m<cell line: 2>\u001b[1;34m()\u001b[0m\n\u001b[0;32m      <a href='vscode-notebook-cell:/c%3A/Users/Lenovo/OneDrive/Documents/python%20by%20digipodim%202.0/loops.ipynb#X13sZmlsZQ%3D%3D?line=2'>3</a>\u001b[0m \u001b[39mif\u001b[39;00m (price \u001b[39mis\u001b[39;00m \u001b[39mNone\u001b[39;00m):\n\u001b[0;32m      <a href='vscode-notebook-cell:/c%3A/Users/Lenovo/OneDrive/Documents/python%20by%20digipodim%202.0/loops.ipynb#X13sZmlsZQ%3D%3D?line=3'>4</a>\u001b[0m     \u001b[39mcontinue\u001b[39;00m\n\u001b[1;32m----> <a href='vscode-notebook-cell:/c%3A/Users/Lenovo/OneDrive/Documents/python%20by%20digipodim%202.0/loops.ipynb#X13sZmlsZQ%3D%3D?line=4'>5</a>\u001b[0m price(price)\n",
      "\u001b[1;31mTypeError\u001b[0m: 'int' object is not callable"
     ]
    }
   ],
   "source": [
    "data = [250, None, 949, 199, None, 299, None, 100]\n",
    "for price in data:\n",
    "    if (price is None):\n",
    "        continue\n",
    "    price(price)\n",
    "\n",
    "\n",
    "\n"
   ]
  },
  {
   "cell_type": "code",
   "execution_count": 4,
   "metadata": {},
   "outputs": [
    {
     "name": "stdout",
     "output_type": "stream",
     "text": [
      "0 Praveen\n",
      "1 Vaishnavi\n",
      "2 Golu\n",
      "3 Shivam\n",
      "4 Shambhavi\n"
     ]
    }
   ],
   "source": [
    "names =  [ 'Praveen' , 'Vaishnavi' , 'Golu' , 'Shivam' , 'Shambhavi']\n",
    "\n",
    "for idx, name in enumerate(names) :\n",
    "    print(idx, name)"
   ]
  },
  {
   "cell_type": "code",
   "execution_count": 8,
   "metadata": {},
   "outputs": [
    {
     "name": "stdout",
     "output_type": "stream",
     "text": [
      "bread🍞     20        2 2020 \n",
      "milk🥛      60        1 60   \n",
      "butter🧈    100       2 100100\n"
     ]
    }
   ],
   "source": [
    "grocery = ['bread🍞','milk🥛','butter🧈']\n",
    "price = ['20','60','100']\n",
    "qtys = [2, 1, 2]\n",
    "\n",
    "for g, p, q in zip(grocery, price, qtys):\n",
    "    print(f'{g:10} {p:5} {q:5} {p*q:5}')"
   ]
  },
  {
   "cell_type": "code",
   "execution_count": 13,
   "metadata": {},
   "outputs": [
    {
     "name": "stdout",
     "output_type": "stream",
     "text": [
      "2\n",
      "5\n",
      "10\n",
      "25\n"
     ]
    }
   ],
   "source": [
    "num = 50\n",
    "for i in range(2, num):\n",
    "    if num % i == 0:\n",
    "        print(i)"
   ]
  },
  {
   "cell_type": "code",
   "execution_count": 15,
   "metadata": {},
   "outputs": [
    {
     "name": "stdout",
     "output_type": "stream",
     "text": [
      "prime\n",
      "prime\n",
      "prime\n",
      "prime\n",
      "prime\n",
      "prime\n",
      "prime\n",
      "prime\n",
      "prime\n",
      "prime\n",
      "prime\n",
      "prime\n",
      "prime\n",
      "prime\n",
      "prime\n"
     ]
    }
   ],
   "source": [
    "num = 17\n",
    "for i in range(2, num):\n",
    "    if num % i == 0:\n",
    "        print(f'{num} => not a prime')\n",
    "        break\n",
    "    else:\n",
    "        print('prime')"
   ]
  },
  {
   "cell_type": "code",
   "execution_count": 18,
   "metadata": {},
   "outputs": [
    {
     "name": "stdout",
     "output_type": "stream",
     "text": [
      "18 => not a prime\n"
     ]
    }
   ],
   "source": [
    "num = 18\n",
    "for i in range(2, num):\n",
    "    if num % i == 0:\n",
    "        print(f'{num} => not a prime')\n",
    "        break\n",
    "        print('prime')"
   ]
  },
  {
   "cell_type": "code",
   "execution_count": 19,
   "metadata": {},
   "outputs": [
    {
     "name": "stdout",
     "output_type": "stream",
     "text": [
      "11 => prime\n",
      "11 => prime\n",
      "11 => prime\n",
      "11 => prime\n",
      "11 => prime\n",
      "11 => prime\n",
      "11 => prime\n",
      "11 => prime\n",
      "11 => prime\n"
     ]
    }
   ],
   "source": [
    "num = 11\n",
    "for i in range(2, num):\n",
    "    if num % i == 0:\n",
    "        print(f'{num} => not a prime')\n",
    "        break\n",
    "       # print(f'{num}' % {i} = {num%i}')\n",
    "    else:\n",
    "        print(f'{num} => prime')"
   ]
  },
  {
   "cell_type": "code",
   "execution_count": 22,
   "metadata": {},
   "outputs": [
    {
     "name": "stdout",
     "output_type": "stream",
     "text": [
      "    123456     6          6\n",
      "6\n",
      "     12345     5         65\n",
      "65\n",
      "      1234     4        654\n",
      "654\n",
      "       123     3       6543\n",
      "6543\n",
      "        12     2      65432\n",
      "65432\n",
      "         1     1     654321\n",
      "654321\n"
     ]
    }
   ],
   "source": [
    "num =123456\n",
    "rev = 0\n",
    "while num > 0:\n",
    "    last_digit = num % 10 #remainder\n",
    "    rev = rev * 10 + last_digit\n",
    "    print(f'{num:10} {last_digit :5} {rev:10}')\n",
    "    num = num // 10 # quotient\n",
    "    print(rev)"
   ]
  },
  {
   "cell_type": "code",
   "execution_count": 23,
   "metadata": {},
   "outputs": [
    {
     "name": "stdout",
     "output_type": "stream",
     "text": [
      "6\n",
      "65\n",
      "654\n",
      "6543\n",
      "65432\n",
      "654321\n"
     ]
    }
   ],
   "source": [
    "num =123456\n",
    "rev = 0\n",
    "while num > 0:\n",
    "    last_digit = num % 10 #remainder\n",
    "    rev = rev * 10 + last_digit\n",
    "    num = num // 10 # quotient\n",
    "    print(rev)"
   ]
  },
  {
   "cell_type": "code",
   "execution_count": 25,
   "metadata": {},
   "outputs": [
    {
     "name": "stdout",
     "output_type": "stream",
     "text": [
      "logged in\n"
     ]
    }
   ],
   "source": [
    "username = 'admin'\n",
    "password = 'admin123'\n",
    "while True:\n",
    "    u = input('username:')\n",
    "    p = input('pasword :')\n",
    "    if u == username and p == password:\n",
    "        print('logged in')\n",
    "        break\n",
    "    else:\n",
    "        print('invalid credentials')\n",
    "        continue"
   ]
  },
  {
   "cell_type": "code",
   "execution_count": null,
   "metadata": {},
   "outputs": [],
   "source": []
  }
 ],
 "metadata": {
  "kernelspec": {
   "display_name": "base",
   "language": "python",
   "name": "python3"
  },
  "language_info": {
   "codemirror_mode": {
    "name": "ipython",
    "version": 3
   },
   "file_extension": ".py",
   "mimetype": "text/x-python",
   "name": "python",
   "nbconvert_exporter": "python",
   "pygments_lexer": "ipython3",
   "version": "3.9.12"
  },
  "orig_nbformat": 4
 },
 "nbformat": 4,
 "nbformat_minor": 2
}
