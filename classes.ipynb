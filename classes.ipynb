{
 "cells": [
  {
   "cell_type": "code",
   "execution_count": 14,
   "metadata": {},
   "outputs": [],
   "source": [
    "class cat:\n",
    "    def __init__(self, breed, age, color='black'):\n",
    "       self.breed = breed\n",
    "       self.age = age\n",
    "       self.color = color"
   ]
  },
  {
   "cell_type": "code",
   "execution_count": 15,
   "metadata": {},
   "outputs": [
    {
     "name": "stdout",
     "output_type": "stream",
     "text": [
      "street cat 5 black\n"
     ]
    }
   ],
   "source": [
    "billu = cat('street cat', 5)\n",
    "sheru = cat('persion', 2, 'white')\n",
    "alice = cat('egyptian', 3, 'yellow')\n",
    "tiger = cat('bengal', 3, 'yellow')\n",
    "\n",
    "print(billu.breed, billu.age, billu.color)\n"
   ]
  },
  {
   "cell_type": "code",
   "execution_count": null,
   "metadata": {},
   "outputs": [],
   "source": []
  }
 ],
 "metadata": {
  "kernelspec": {
   "display_name": "base",
   "language": "python",
   "name": "python3"
  },
  "language_info": {
   "codemirror_mode": {
    "name": "ipython",
    "version": 3
   },
   "file_extension": ".py",
   "mimetype": "text/x-python",
   "name": "python",
   "nbconvert_exporter": "python",
   "pygments_lexer": "ipython3",
   "version": "3.9.12"
  },
  "orig_nbformat": 4
 },
 "nbformat": 4,
 "nbformat_minor": 2
}
