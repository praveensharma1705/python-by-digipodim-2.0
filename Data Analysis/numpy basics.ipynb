{
 "cells": [
  {
   "cell_type": "code",
   "execution_count": 1,
   "metadata": {},
   "outputs": [],
   "source": [
    "import numpy as np"
   ]
  },
  {
   "cell_type": "code",
   "execution_count": 6,
   "metadata": {},
   "outputs": [
    {
     "name": "stdout",
     "output_type": "stream",
     "text": [
      "[2 3 5 1]\n",
      "[[1 2 3]\n",
      " [4 5 6]]\n",
      "[[[1 3]\n",
      "  [4 2]]\n",
      "\n",
      " [[2 1]\n",
      "  [3 4]]]\n"
     ]
    }
   ],
   "source": [
    "X = np.array([2,3,5,1]) # 1D array\n",
    "X2d = np.array([[1,2,3],[4,5,6]]) # 2D array\n",
    "X3d = np.array([[[1,3],[4,2]],[[2,1],[3,4]]]) # 3D array\n",
    "print(X)\n",
    "print(X2d)\n",
    "print(X3d)"
   ]
  },
  {
   "cell_type": "code",
   "execution_count": 9,
   "metadata": {},
   "outputs": [
    {
     "data": {
      "text/plain": [
       "array([[0. , 0.2, 0.4, 0.6, 0.8, 1. , 1.2, 1.4, 1.6, 1.8],\n",
       "       [2. , 2.2, 2.4, 2.6, 2.8, 3. , 3.2, 3.4, 3.6, 3.8],\n",
       "       [4. , 4.2, 4.4, 4.6, 4.8, 5. , 5.2, 5.4, 5.6, 5.8],\n",
       "       [6. , 6.2, 6.4, 6.6, 6.8, 7. , 7.2, 7.4, 7.6, 7.8],\n",
       "       [8. , 8.2, 8.4, 8.6, 8.8, 9. , 9.2, 9.4, 9.6, 9.8]])"
      ]
     },
     "execution_count": 9,
     "metadata": {},
     "output_type": "execute_result"
    }
   ],
   "source": [
    "# Sequential matrix, np.arange() and np.linspace()\n",
    "np.arange(0, 10, .2).reshape(5, 10)"
   ]
  },
  {
   "cell_type": "code",
   "execution_count": 16,
   "metadata": {},
   "outputs": [
    {
     "data": {
      "text/plain": [
       "array([[ 0.        ,  0.15151515,  0.3030303 ,  0.45454545],\n",
       "       [ 0.60606061,  0.75757576,  0.90909091,  1.06060606],\n",
       "       [ 1.21212121,  1.36363636,  1.51515152,  1.66666667],\n",
       "       [ 1.81818182,  1.96969697,  2.12121212,  2.27272727],\n",
       "       [ 2.42424242,  2.57575758,  2.72727273,  2.87878788],\n",
       "       [ 3.03030303,  3.18181818,  3.33333333,  3.48484848],\n",
       "       [ 3.63636364,  3.78787879,  3.93939394,  4.09090909],\n",
       "       [ 4.24242424,  4.39393939,  4.54545455,  4.6969697 ],\n",
       "       [ 4.84848485,  5.        ,  5.15151515,  5.3030303 ],\n",
       "       [ 5.45454545,  5.60606061,  5.75757576,  5.90909091],\n",
       "       [ 6.06060606,  6.21212121,  6.36363636,  6.51515152],\n",
       "       [ 6.66666667,  6.81818182,  6.96969697,  7.12121212],\n",
       "       [ 7.27272727,  7.42424242,  7.57575758,  7.72727273],\n",
       "       [ 7.87878788,  8.03030303,  8.18181818,  8.33333333],\n",
       "       [ 8.48484848,  8.63636364,  8.78787879,  8.93939394],\n",
       "       [ 9.09090909,  9.24242424,  9.39393939,  9.54545455],\n",
       "       [ 9.6969697 ,  9.84848485, 10.        , 10.15151515],\n",
       "       [10.3030303 , 10.45454545, 10.60606061, 10.75757576],\n",
       "       [10.90909091, 11.06060606, 11.21212121, 11.36363636],\n",
       "       [11.51515152, 11.66666667, 11.81818182, 11.96969697],\n",
       "       [12.12121212, 12.27272727, 12.42424242, 12.57575758],\n",
       "       [12.72727273, 12.87878788, 13.03030303, 13.18181818],\n",
       "       [13.33333333, 13.48484848, 13.63636364, 13.78787879],\n",
       "       [13.93939394, 14.09090909, 14.24242424, 14.39393939],\n",
       "       [14.54545455, 14.6969697 , 14.84848485, 15.        ]])"
      ]
     },
     "execution_count": 16,
     "metadata": {},
     "output_type": "execute_result"
    }
   ],
   "source": [
    "np.linspace(0, 15, 100).reshape(25, 4)"
   ]
  },
  {
   "cell_type": "code",
   "execution_count": null,
   "metadata": {},
   "outputs": [],
   "source": [
    "# randomized matrix with np.random\n",
    "# np.random.rand()\n",
    "print(np.random.rand(2,2)) # 0 to 1\n",
    "\n",
    "# np.random.randn() # normal distribution\n",
    "print(np.random.randn(3,3)) # normal distribution\n",
    "\n",
    "# np.random.randint()\n",
    "print(np.random.randint(-10,10,(3,3))) # random int from -10 to 10\n",
    "\n",
    "# np.random.uniform()\n",
    "print(np.random.uniform(0,2,(3,3))) # random uniform from 0 to 2\n",
    "\n",
    "# np.random.permutation()\n",
    "print(np.random.permutation([1,2,3,4,5,6,7,8,9,10])) # random permutation"
   ]
  },
  {
   "cell_type": "code",
   "execution_count": null,
   "metadata": {},
   "outputs": [],
   "source": [
    "a = np.random.randint(-10,10, (3,3))\n",
    "b = np.random.randint(-10,10, (3,3))\n",
    "print(a)\n",
    "print(b)"
   ]
  },
  {
   "cell_type": "code",
   "execution_count": null,
   "metadata": {},
   "outputs": [],
   "source": [
    "# matrix and constant operations\n",
    "a ** 2 # + - * / ** % //"
   ]
  },
  {
   "cell_type": "code",
   "execution_count": null,
   "metadata": {},
   "outputs": [],
   "source": [
    "# same size matrix operations\n",
    "print(a + b)\n",
    "print(a - b)\n",
    "print(a / b)\n",
    "print(a * b) # element-wise multiplication\n",
    "print(a @ b) # matrix multiplication"
   ]
  },
  {
   "cell_type": "code",
   "execution_count": null,
   "metadata": {},
   "outputs": [],
   "source": [
    "# matrix multiplication\n",
    "np.matmul(a, b) # or np.dot(a, b) or a @ b"
   ]
  }
 ],
 "metadata": {
  "kernelspec": {
   "display_name": "base",
   "language": "python",
   "name": "python3"
  },
  "language_info": {
   "codemirror_mode": {
    "name": "ipython",
    "version": 3
   },
   "file_extension": ".py",
   "mimetype": "text/x-python",
   "name": "python",
   "nbconvert_exporter": "python",
   "pygments_lexer": "ipython3",
   "version": "3.9.12"
  },
  "orig_nbformat": 4
 },
 "nbformat": 4,
 "nbformat_minor": 2
}
