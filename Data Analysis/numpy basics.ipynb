{
 "cells": [
  {
   "cell_type": "code",
   "execution_count": 7,
   "metadata": {},
   "outputs": [],
   "source": [
    "import numpy as np"
   ]
  },
  {
   "cell_type": "code",
   "execution_count": 8,
   "metadata": {},
   "outputs": [
    {
     "name": "stdout",
     "output_type": "stream",
     "text": [
      "[2 3 5 1]\n",
      "[[1 2 3]\n",
      " [4 5 6]]\n",
      "[[[1 3]\n",
      "  [4 2]]\n",
      "\n",
      " [[2 1]\n",
      "  [3 4]]]\n"
     ]
    }
   ],
   "source": [
    "x = np.array([2,3,5,1]) # 1D array\n",
    "x2d = np.array([[1,2,3],[4,5,6]]) # 2D array\n",
    "x3d = np.array([[[1,3],[4,2]],[[2,1],[3,4]]])\n",
    "print(x)\n",
    "print(x2d)\n",
    "print(x3d)"
   ]
  },
  {
   "cell_type": "code",
   "execution_count": 9,
   "metadata": {},
   "outputs": [
    {
     "data": {
      "text/plain": [
       "array([[0. , 0.2, 0.4, 0.6, 0.8, 1. , 1.2, 1.4, 1.6, 1.8],\n",
       "       [2. , 2.2, 2.4, 2.6, 2.8, 3. , 3.2, 3.4, 3.6, 3.8],\n",
       "       [4. , 4.2, 4.4, 4.6, 4.8, 5. , 5.2, 5.4, 5.6, 5.8],\n",
       "       [6. , 6.2, 6.4, 6.6, 6.8, 7. , 7.2, 7.4, 7.6, 7.8],\n",
       "       [8. , 8.2, 8.4, 8.6, 8.8, 9. , 9.2, 9.4, 9.6, 9.8]])"
      ]
     },
     "execution_count": 9,
     "metadata": {},
     "output_type": "execute_result"
    }
   ],
   "source": [
    "# sequential matrix, np.arange() and np.linspace()\n",
    "np.arange(0, 10, .2).reshape(5, 10)"
   ]
  },
  {
   "cell_type": "code",
   "execution_count": 10,
   "metadata": {},
   "outputs": [
    {
     "data": {
      "text/plain": [
       "array([ 0.        ,  0.15151515,  0.3030303 ,  0.45454545,  0.60606061,\n",
       "        0.75757576,  0.90909091,  1.06060606,  1.21212121,  1.36363636,\n",
       "        1.51515152,  1.66666667,  1.81818182,  1.96969697,  2.12121212,\n",
       "        2.27272727,  2.42424242,  2.57575758,  2.72727273,  2.87878788,\n",
       "        3.03030303,  3.18181818,  3.33333333,  3.48484848,  3.63636364,\n",
       "        3.78787879,  3.93939394,  4.09090909,  4.24242424,  4.39393939,\n",
       "        4.54545455,  4.6969697 ,  4.84848485,  5.        ,  5.15151515,\n",
       "        5.3030303 ,  5.45454545,  5.60606061,  5.75757576,  5.90909091,\n",
       "        6.06060606,  6.21212121,  6.36363636,  6.51515152,  6.66666667,\n",
       "        6.81818182,  6.96969697,  7.12121212,  7.27272727,  7.42424242,\n",
       "        7.57575758,  7.72727273,  7.87878788,  8.03030303,  8.18181818,\n",
       "        8.33333333,  8.48484848,  8.63636364,  8.78787879,  8.93939394,\n",
       "        9.09090909,  9.24242424,  9.39393939,  9.54545455,  9.6969697 ,\n",
       "        9.84848485, 10.        , 10.15151515, 10.3030303 , 10.45454545,\n",
       "       10.60606061, 10.75757576, 10.90909091, 11.06060606, 11.21212121,\n",
       "       11.36363636, 11.51515152, 11.66666667, 11.81818182, 11.96969697,\n",
       "       12.12121212, 12.27272727, 12.42424242, 12.57575758, 12.72727273,\n",
       "       12.87878788, 13.03030303, 13.18181818, 13.33333333, 13.48484848,\n",
       "       13.63636364, 13.78787879, 13.93939394, 14.09090909, 14.24242424,\n",
       "       14.39393939, 14.54545455, 14.6969697 , 14.84848485, 15.        ])"
      ]
     },
     "execution_count": 10,
     "metadata": {},
     "output_type": "execute_result"
    }
   ],
   "source": [
    "np.linspace(0, 15, 100)"
   ]
  },
  {
   "cell_type": "code",
   "execution_count": 11,
   "metadata": {},
   "outputs": [
    {
     "name": "stdout",
     "output_type": "stream",
     "text": [
      "[[0.47127327 0.56162926]\n",
      " [0.27923146 0.03118735]]\n",
      "[[-0.73529527  0.46002155  0.41578297]\n",
      " [ 0.1039546  -1.04812226 -0.23991067]\n",
      " [ 1.04365603 -0.69685046 -0.12890193]]\n",
      "[[ -4 -10  -9]\n",
      " [ -7   6   8]\n",
      " [-10   3  -4]]\n",
      "[[1.92387347 0.42808582 0.88508327]\n",
      " [1.69833439 0.70026443 1.63986942]\n",
      " [1.94306174 0.16953493 0.10630665]]\n",
      "[ 7  1  5  8  6  2  9  3  4 10]\n"
     ]
    }
   ],
   "source": [
    "# randomized matrix with np.random\n",
    "# np.random.rand()\n",
    "print(np.random.rand(2,2)) # 0 to 1\n",
    "\n",
    "# np.random.randn() # normal distribution\n",
    "print(np.random.randn(3,3)) # normal distribution\n",
    "\n",
    "# np.random.randint()\n",
    "print(np.random.randint(-10,10,(3,3))) # random int from -10 to 10\n",
    "\n",
    "# np.random.uniform()\n",
    "print(np.random.uniform(0,2,(3,3))) # random uniform from 0 to 2\n",
    "\n",
    "# np.random.permutation()\n",
    "print(np.random.permutation([1,2,3,4,5,6,7,8,9,10])) # random permutation"
   ]
  },
  {
   "cell_type": "markdown",
   "metadata": {},
   "source": [
    "operations"
   ]
  },
  {
   "cell_type": "code",
   "execution_count": 12,
   "metadata": {},
   "outputs": [
    {
     "name": "stdout",
     "output_type": "stream",
     "text": [
      "[[-6 -7  6]\n",
      " [-5 -3  1]\n",
      " [-8  3  5]]\n",
      "[[ -4  -1  -1]\n",
      " [  8 -10   6]\n",
      " [  4   7   0]]\n"
     ]
    }
   ],
   "source": [
    "a = np.random.randint(-10,10, (3,3))\n",
    "b = np.random.randint(-10,10, (3,3))\n",
    "print(a)\n",
    "print(b)"
   ]
  },
  {
   "cell_type": "code",
   "execution_count": 13,
   "metadata": {},
   "outputs": [
    {
     "data": {
      "text/plain": [
       "array([[36, 49, 36],\n",
       "       [25,  9,  1],\n",
       "       [64,  9, 25]])"
      ]
     },
     "execution_count": 13,
     "metadata": {},
     "output_type": "execute_result"
    }
   ],
   "source": [
    "# matrix and constant operations\n",
    "a ** 2 # + - * / ** % //"
   ]
  },
  {
   "cell_type": "code",
   "execution_count": 14,
   "metadata": {},
   "outputs": [
    {
     "name": "stdout",
     "output_type": "stream",
     "text": [
      "[[-10  -8   5]\n",
      " [  3 -13   7]\n",
      " [ -4  10   5]]\n",
      "[[ -2  -6   7]\n",
      " [-13   7  -5]\n",
      " [-12  -4   5]]\n",
      "[[ 1.5         7.         -6.        ]\n",
      " [-0.625       0.3         0.16666667]\n",
      " [-2.          0.42857143         inf]]\n",
      "[[ 24   7  -6]\n",
      " [-40  30   6]\n",
      " [-32  21   0]]\n",
      "[[ -8 118 -36]\n",
      " [  0  42 -13]\n",
      " [ 76  13  26]]\n"
     ]
    },
    {
     "name": "stderr",
     "output_type": "stream",
     "text": [
      "C:\\Users\\Lenovo\\AppData\\Local\\Temp\\ipykernel_11076\\3732709816.py:4: RuntimeWarning: divide by zero encountered in divide\n",
      "  print(a / b)\n"
     ]
    }
   ],
   "source": [
    "# same size matrix operations\n",
    "print(a + b)\n",
    "print(a - b)\n",
    "print(a / b)\n",
    "print(a * b) # element-wise multiplication\n",
    "print(a @ b) # matrix multiplication"
   ]
  },
  {
   "cell_type": "code",
   "execution_count": 15,
   "metadata": {},
   "outputs": [
    {
     "data": {
      "text/plain": [
       "array([[ -8, 118, -36],\n",
       "       [  0,  42, -13],\n",
       "       [ 76,  13,  26]])"
      ]
     },
     "execution_count": 15,
     "metadata": {},
     "output_type": "execute_result"
    }
   ],
   "source": [
    "# matrix multiplication\n",
    "np.matmul(a, b) # or np.dot(a, b) or a @ b"
   ]
  },
  {
   "cell_type": "code",
   "execution_count": null,
   "metadata": {},
   "outputs": [],
   "source": [
    "# single element indexing\n",
    "print(z[0,0], z[2, -1], z[5,5])\n",
    "\n",
    "# single row \n",
    "print(\"fift row\", z[4]) # 5th row ( index 4)"
   ]
  },
  {
   "cell_type": "markdown",
   "metadata": {},
   "source": [
    "boolean filter"
   ]
  },
  {
   "cell_type": "code",
   "execution_count": 16,
   "metadata": {},
   "outputs": [
    {
     "name": "stdout",
     "output_type": "stream",
     "text": [
      "[[1 5 5 4 2]\n",
      " [3 3 4 2 4]\n",
      " [1 5 1 1 4]\n",
      " [3 2 1 5 5]\n",
      " [1 1 4 3 2]]\n"
     ]
    }
   ],
   "source": [
    "x = np.random.randint(1,6, (5, 5))\n",
    "print(x)\n"
   ]
  },
  {
   "cell_type": "code",
   "execution_count": 17,
   "metadata": {},
   "outputs": [
    {
     "data": {
      "text/plain": [
       "array([1, 2, 2, 1, 1, 1, 2, 1, 1, 1, 2])"
      ]
     },
     "execution_count": 17,
     "metadata": {},
     "output_type": "execute_result"
    }
   ],
   "source": [
    "x[x<3]"
   ]
  },
  {
   "cell_type": "code",
   "execution_count": 18,
   "metadata": {},
   "outputs": [
    {
     "name": "stdout",
     "output_type": "stream",
     "text": [
      "[[ -4  -9 -10   2   2]\n",
      " [  7   7   5   7  -3]\n",
      " [ -2  -2   3   9   9]\n",
      " [  6  -8   8   3   0]\n",
      " [ -1 -10   4   6  -9]]\n"
     ]
    },
    {
     "data": {
      "text/plain": [
       "array([2, 2, 5, 3, 3, 4])"
      ]
     },
     "execution_count": 18,
     "metadata": {},
     "output_type": "execute_result"
    }
   ],
   "source": [
    "x = np.random.randint(-10, 10, (5,5))\n",
    "print(x)\n",
    "\n",
    "x[(x>0) & (x<6)]"
   ]
  },
  {
   "cell_type": "code",
   "execution_count": 21,
   "metadata": {},
   "outputs": [
    {
     "name": "stdout",
     "output_type": "stream",
     "text": [
      "[[4 5 9 9 4]\n",
      " [8 8 8 6 2]\n",
      " [7 4 4 2 3]]\n",
      "[[4 8 7]\n",
      " [5 8 4]\n",
      " [9 8 4]\n",
      " [9 6 2]\n",
      " [4 2 3]]\n",
      "[[4 8 7]\n",
      " [5 8 4]\n",
      " [9 8 4]\n",
      " [9 6 2]\n",
      " [4 2 3]]\n",
      "[4 5 9 9 4 8 8 8 6 2 7 4 4 2 3]\n",
      "[4 5 9 9 4 8 8 8 6 2 7 4 4 2 3]\n",
      "[[4]\n",
      " [5]\n",
      " [9]\n",
      " [9]\n",
      " [4]\n",
      " [8]\n",
      " [8]\n",
      " [8]\n",
      " [6]\n",
      " [2]\n",
      " [7]\n",
      " [4]\n",
      " [4]\n",
      " [2]\n",
      " [3]]\n",
      "[[4 5 9 9 4 8 8 8 6 2 7 4 4 2 3]]\n"
     ]
    }
   ],
   "source": [
    "x = np.random.randint(1, 10, (3,5))\n",
    "print(x)\n",
    "print(x.transpose())\n",
    "print(x.T)\n",
    "# flatten\n",
    "print(x.flatten())\n",
    "print(x.ravel())\n",
    "# reshape\n",
    "print(x.reshape(-1, 1)) # make a 2D array with column\n",
    "print(x.reshape(1, -1)) # make a 3D array with colum"
   ]
  },
  {
   "cell_type": "code",
   "execution_count": null,
   "metadata": {},
   "outputs": [],
   "source": [
    "# concatenate\n",
    "x = np.array([1,2,3], [4,5,6])\n",
    "y = np.array([3,2,1], [1,1,1])\n",
    "print(x)\n",
    "print(y)\n",
    "print(np.concatenate([x, y], axis=0)) # axis=0: row\n",
    "print(np.concatenate([x, y], axis=1)) # axis=1: column"
   ]
  },
  {
   "cell_type": "code",
   "execution_count": null,
   "metadata": {},
   "outputs": [],
   "source": [
    "#stackimg\n",
    "a = np.random.randint(0,10,(2,3))\n",
    "b = np.random.randint(0,10,(2,3))\n",
    "print(np.vstack((a,b))) # vertical"
   ]
  },
  {
   "cell_type": "code",
   "execution_count": 23,
   "metadata": {},
   "outputs": [],
   "source": [
    "import matplotlib.pyplot as plt"
   ]
  },
  {
   "cell_type": "code",
   "execution_count": 24,
   "metadata": {},
   "outputs": [
    {
     "data": {
      "text/plain": [
       "[<matplotlib.lines.Line2D at 0x22a439643a0>]"
      ]
     },
     "execution_count": 24,
     "metadata": {},
     "output_type": "execute_result"
    },
    {
     "data": {
      "image/png": "[encoded data removed]",
      "text/plain": [
       "<Figure size 640x480 with 1 Axes>"
      ]
     },
     "metadata": {},
     "output_type": "display_data"
    }
   ],
   "source": [
    "t = np.arange(-5, 5, .2)\n",
    "s1 = np.sin(t) # sine value of each item\n",
    "plt.plot(t, s1, 'ro--') # red"
   ]
  },
  {
   "cell_type": "code",
   "execution_count": null,
   "metadata": {},
   "outputs": [],
   "source": []
  }
 ],
 "metadata": {
  "kernelspec": {
   "display_name": "base",
   "language": "python",
   "name": "python3"
  },
  "language_info": {
   "codemirror_mode": {
    "name": "ipython",
    "version": 3
   },
   "file_extension": ".py",
   "mimetype": "text/x-python",
   "name": "python",
   "nbconvert_exporter": "python",
   "pygments_lexer": "ipython3",
   "version": "3.9.12"
  },
  "orig_nbformat": 4
 },
 "nbformat": 4,
 "nbformat_minor": 2
}
