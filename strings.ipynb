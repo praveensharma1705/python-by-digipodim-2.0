{
 "cells": [
  {
   "attachments": {},
   "cell_type": "markdown",
   "metadata": {},
   "source": [
    "- creating\n",
    "- indexing and slicing\n",
    "- methods\n",
    "      - formatting\n",
    "      - validation\n",
    "      - utility"
   ]
  },
  {
   "cell_type": "code",
   "execution_count": 2,
   "metadata": {},
   "outputs": [],
   "source": [
    "a = 'apple'\n",
    "name = \"Alcazar\"\n",
    "address =  ''' 20/12, somewhere,\n",
    "nowhere to be found,\n",
    "india\n",
    "'''\n",
    "addr = r'C:\\Users\\Lenovo\\Downloads\\Praveen Kumar Sharma.pdf.pdf' # raw sgtring"
   ]
  },
  {
   "cell_type": "code",
   "execution_count": 4,
   "metadata": {},
   "outputs": [
    {
     "data": {
      "text/plain": [
       "'p'"
      ]
     },
     "execution_count": 4,
     "metadata": {},
     "output_type": "execute_result"
    }
   ],
   "source": [
    "a[1]"
   ]
  },
  {
   "cell_type": "code",
   "execution_count": null,
   "metadata": {},
   "outputs": [],
   "source": [
    "# a[0] = 'b' # string are immutable"
   ]
  },
  {
   "cell_type": "code",
   "execution_count": 5,
   "metadata": {},
   "outputs": [
    {
     "name": "stdout",
     "output_type": "stream",
     "text": [
      "0 a\n",
      "1 p\n",
      "2 p\n",
      "3 l\n",
      "4 e\n"
     ]
    }
   ],
   "source": [
    "# indexing\n",
    "for i, c in enumerate(a):\n",
    "    print(i, c)"
   ]
  },
  {
   "cell_type": "code",
   "execution_count": 6,
   "metadata": {},
   "outputs": [
    {
     "name": "stdout",
     "output_type": "stream",
     "text": [
      "e l p p a\n"
     ]
    }
   ],
   "source": [
    "print(a[-1],a[-2],a[-3],a[-4],a[-5])"
   ]
  },
  {
   "cell_type": "code",
   "execution_count": 7,
   "metadata": {},
   "outputs": [
    {
     "name": "stdout",
     "output_type": "stream",
     "text": [
      "William Shakespeare\n"
     ]
    }
   ],
   "source": [
    "name = 'William Shakespeare'\n",
    "print(name)"
   ]
  },
  {
   "cell_type": "code",
   "execution_count": 13,
   "metadata": {},
   "outputs": [
    {
     "name": "stdout",
     "output_type": "stream",
     "text": [
      "Shake\n",
      "pear\n",
      "Will\n",
      "peare\n"
     ]
    }
   ],
   "source": [
    "#Slicing\n",
    "print(name[8: 13])\n",
    "print(name[-5: -1])\n",
    "print(name[:4] ) #starting is 0, so we dont put anything\n",
    "print(name[-5:]) # if nothing is given after :, then read till end"
   ]
  },
  {
   "cell_type": "code",
   "execution_count": 14,
   "metadata": {},
   "outputs": [],
   "source": [
    "frame = name[:7]\n",
    "lname = name[8:]"
   ]
  },
  {
   "cell_type": "code",
   "execution_count": 15,
   "metadata": {},
   "outputs": [
    {
     "data": {
      "text/plain": [
       "'William Shakespeare'"
      ]
     },
     "execution_count": 15,
     "metadata": {},
     "output_type": "execute_result"
    }
   ],
   "source": [
    "name[:]"
   ]
  },
  {
   "cell_type": "code",
   "execution_count": 16,
   "metadata": {},
   "outputs": [
    {
     "data": {
      "text/plain": [
       "'WlimSaepae'"
      ]
     },
     "execution_count": 16,
     "metadata": {},
     "output_type": "execute_result"
    }
   ],
   "source": [
    "name[::2]"
   ]
  },
  {
   "attachments": {},
   "cell_type": "markdown",
   "metadata": {},
   "source": [
    "syntax var [start : stop : step]"
   ]
  },
  {
   "cell_type": "code",
   "execution_count": 17,
   "metadata": {},
   "outputs": [
    {
     "data": {
      "text/plain": [
       "'eraepsekahS mailliW'"
      ]
     },
     "execution_count": 17,
     "metadata": {},
     "output_type": "execute_result"
    }
   ],
   "source": [
    "name[::-1] #string reverse"
   ]
  },
  {
   "cell_type": "code",
   "execution_count": 18,
   "metadata": {},
   "outputs": [],
   "source": [
    "msg =\"you should study and play😅😅\""
   ]
  },
  {
   "cell_type": "code",
   "execution_count": 20,
   "metadata": {},
   "outputs": [
    {
     "name": "stdout",
     "output_type": "stream",
     "text": [
      "YOU SHOULD STUDY AND PLAY😅😅\n",
      "you should study and play😅😅\n",
      "You Should Study And Play😅😅\n",
      "You should study and play😅😅\n",
      "YOU SHOULD STUDY AND PLAY😅😅\n"
     ]
    }
   ],
   "source": [
    "print(msg.upper()) #formating function\n",
    "print(msg.lower())\n",
    "print(msg.title())\n",
    "print(msg.capitalize())\n",
    "print(msg.swapcase())"
   ]
  },
  {
   "cell_type": "code",
   "execution_count": 21,
   "metadata": {},
   "outputs": [
    {
     "name": "stdout",
     "output_type": "stream",
     "text": [
      "False\n",
      "True\n",
      "False\n",
      "True\n",
      "True\n",
      "True\n",
      "False\n"
     ]
    }
   ],
   "source": [
    "print(msg.isupper())       #Validation\n",
    "print(msg.islower())\n",
    "print('hello'.isnumeric())\n",
    "print('123'.isnumeric())\n",
    "print('a12' .isalnum())\n",
    "print('Mr.Raja' .startswith('Mr'))\n",
    "print('Raja'.startswith('Mr'))"
   ]
  },
  {
   "cell_type": "code",
   "execution_count": 23,
   "metadata": {},
   "outputs": [
    {
     "name": "stdout",
     "output_type": "stream",
     "text": [
      "you have given a python file\n",
      "from turtle import *\n",
      "speed('slowest')\n",
      "#square print\n",
      "'''fd(150)\n",
      "rt(90)\n",
      "fd(150)\n",
      "rt(90)\n",
      "fd(150)\n",
      "rt(90)\n",
      "fd(150)\n",
      "'''\n",
      "#hexagon print\n",
      "fd(150)\n",
      "rt(60)\n",
      "fd(150)\n",
      "rt(60)\n",
      "fd(150)\n",
      "rt(60)\n",
      "fd(150)\n",
      "rt(60)\n",
      "fd(150)\n",
      "rt(60)\n",
      "fd(150)\n",
      "rt(60)\n",
      "\n",
      "hideturtle()\n",
      "mainloop() # hold the window open\n"
     ]
    }
   ],
   "source": [
    "file = input('enter a file path')\n",
    "if file.endswith('.py'):\n",
    "    print('you have given a python file')\n",
    "    content = open(file).read()\n",
    "    print(content)\n",
    "else:\n",
    "    print('you have given me something else')\n",
    "    print('shame on you😡')"
   ]
  },
  {
   "attachments": {},
   "cell_type": "markdown",
   "metadata": {},
   "source": [
    "- Utility functions\n",
    "     - find()\n",
    "     - replace()\n",
    "     - split ()\n",
    "     - splitlines()\n",
    "     - join()\n",
    "     - count()\n",
    "     - strip()"
   ]
  },
  {
   "cell_type": "code",
   "execution_count": 25,
   "metadata": {},
   "outputs": [
    {
     "data": {
      "text/plain": [
       "8"
      ]
     },
     "execution_count": 25,
     "metadata": {},
     "output_type": "execute_result"
    }
   ],
   "source": [
    "quote = 'Journey Before Destination'\n",
    "quote.find('Before')"
   ]
  },
  {
   "cell_type": "code",
   "execution_count": 26,
   "metadata": {},
   "outputs": [
    {
     "data": {
      "text/plain": [
       "1"
      ]
     },
     "execution_count": 26,
     "metadata": {},
     "output_type": "execute_result"
    }
   ],
   "source": [
    "quote.find('our')"
   ]
  },
  {
   "cell_type": "code",
   "execution_count": 27,
   "metadata": {},
   "outputs": [
    {
     "data": {
      "text/plain": [
       "-1"
      ]
     },
     "execution_count": 27,
     "metadata": {},
     "output_type": "execute_result"
    }
   ],
   "source": [
    "quote.find('x', 10)"
   ]
  },
  {
   "cell_type": "code",
   "execution_count": 28,
   "metadata": {},
   "outputs": [
    {
     "data": {
      "text/plain": [
       "'Journey Before Destination'"
      ]
     },
     "execution_count": 28,
     "metadata": {},
     "output_type": "execute_result"
    }
   ],
   "source": [
    "quote.replace('Joureny', 'Travelling')"
   ]
  },
  {
   "cell_type": "code",
   "execution_count": 29,
   "metadata": {},
   "outputs": [
    {
     "data": {
      "text/plain": [
       "'Journey Before Destination'"
      ]
     },
     "execution_count": 29,
     "metadata": {},
     "output_type": "execute_result"
    }
   ],
   "source": [
    "quote.replace('Joureny','Travelling').replace('Before.','to')"
   ]
  },
  {
   "cell_type": "code",
   "execution_count": 30,
   "metadata": {},
   "outputs": [
    {
     "data": {
      "text/plain": [
       "'$299999 dollar'"
      ]
     },
     "execution_count": 30,
     "metadata": {},
     "output_type": "execute_result"
    }
   ],
   "source": [
    "amt = '$299,999 dollars'\n",
    "amt.replace('s','').replace(',','').replace('dollars', '').replace('','')"
   ]
  },
  {
   "cell_type": "code",
   "execution_count": null,
   "metadata": {},
   "outputs": [],
   "source": [
    "char = ['$',',','dollars','']\n",
    "for crap in chars:\n",
    "    \n"
   ]
  },
  {
   "cell_type": "code",
   "execution_count": 31,
   "metadata": {},
   "outputs": [
    {
     "name": "stdout",
     "output_type": "stream",
     "text": [
      "['you', 'should', 'study', 'and', 'play😅😅']\n"
     ]
    }
   ],
   "source": [
    "print(msg.split())       #spaces are used are delimiter"
   ]
  },
  {
   "cell_type": "code",
   "execution_count": 32,
   "metadata": {},
   "outputs": [
    {
     "data": {
      "text/plain": [
       "['we are here', ' we are there', ' and everywhere']"
      ]
     },
     "execution_count": 32,
     "metadata": {},
     "output_type": "execute_result"
    }
   ],
   "source": [
    "msg2 = 'we are here, we are there, and everywhere'\n",
    "msg2.split(',')"
   ]
  },
  {
   "cell_type": "code",
   "execution_count": 3,
   "metadata": {},
   "outputs": [],
   "source": [
    "poem = '''Jhony Jhony, yes papa\n",
    "eating sugar, no papa\n",
    "trlling a lie, no papa\n",
    "open your mouth , hahahah'''"
   ]
  },
  {
   "cell_type": "code",
   "execution_count": 4,
   "metadata": {},
   "outputs": [
    {
     "data": {
      "text/plain": [
       "['Jhony',\n",
       " 'Jhony,',\n",
       " 'yes',\n",
       " 'papa',\n",
       " 'eating',\n",
       " 'sugar,',\n",
       " 'no',\n",
       " 'papa',\n",
       " 'trlling',\n",
       " 'a',\n",
       " 'lie,',\n",
       " 'no',\n",
       " 'papa',\n",
       " 'open',\n",
       " 'your',\n",
       " 'mouth',\n",
       " ',',\n",
       " 'hahahah']"
      ]
     },
     "execution_count": 4,
     "metadata": {},
     "output_type": "execute_result"
    }
   ],
   "source": [
    "poem.split()"
   ]
  },
  {
   "cell_type": "code",
   "execution_count": 36,
   "metadata": {},
   "outputs": [
    {
     "data": {
      "text/plain": [
       "['Jhony Jhony, yes papa',\n",
       " 'eating sugar, no papa',\n",
       " 'trlling a lie, no papa',\n",
       " 'open your mouth , hahahah']"
      ]
     },
     "execution_count": 36,
     "metadata": {},
     "output_type": "execute_result"
    }
   ],
   "source": [
    "poem.splitlines()"
   ]
  },
  {
   "cell_type": "code",
   "execution_count": 5,
   "metadata": {},
   "outputs": [
    {
     "name": "stdout",
     "output_type": "stream",
     "text": [
      "['Hi', 'There', 'How', 'are', 'you']\n"
     ]
    }
   ],
   "source": [
    "x = ['Hi','There','How','are','you']\n",
    "print(x)"
   ]
  },
  {
   "cell_type": "code",
   "execution_count": 6,
   "metadata": {},
   "outputs": [
    {
     "data": {
      "text/plain": [
       "'Hi There How are you'"
      ]
     },
     "execution_count": 6,
     "metadata": {},
     "output_type": "execute_result"
    }
   ],
   "source": [
    "' '.join(x)"
   ]
  },
  {
   "cell_type": "code",
   "execution_count": 7,
   "metadata": {},
   "outputs": [
    {
     "name": "stdout",
     "output_type": "stream",
     "text": [
      "Hi There How are you\n"
     ]
    }
   ],
   "source": [
    "msg = ' '.join(x)\n",
    "print(msg)"
   ]
  },
  {
   "cell_type": "code",
   "execution_count": 8,
   "metadata": {},
   "outputs": [
    {
     "name": "stdout",
     "output_type": "stream",
     "text": [
      "HiThereHowareyou\n",
      "Hi⬆️There⬆️How⬆️are⬆️you\n"
     ]
    }
   ],
   "source": [
    "print(''.join(x))\n",
    "print('⬆️'.join(x))"
   ]
  },
  {
   "cell_type": "code",
   "execution_count": 15,
   "metadata": {},
   "outputs": [
    {
     "name": "stdout",
     "output_type": "stream",
     "text": [
      "Jhony Jhony, yes papa\n",
      "eating sugar, no papa\n",
      "trlling a lie, no papa\n",
      "open your mouth , hahahah\n",
      "0\n"
     ]
    }
   ],
   "source": [
    "print(poem)\n",
    "poem.count('a')\n",
    "print(poem.lower().count('Joh'))\n"
   ]
  },
  {
   "cell_type": "code",
   "execution_count": 16,
   "metadata": {},
   "outputs": [
    {
     "name": "stdout",
     "output_type": "stream",
     "text": [
      "welcome\n"
     ]
    }
   ],
   "source": [
    "username = input('enter username:')\n",
    "if username == 'praveen' :\n",
    "    print('welcome')"
   ]
  },
  {
   "cell_type": "code",
   "execution_count": 17,
   "metadata": {},
   "outputs": [
    {
     "name": "stdout",
     "output_type": "stream",
     "text": [
      "welcome\n"
     ]
    }
   ],
   "source": [
    "username = input('enter username:')\n",
    "if username.strip() == 'praveen' :  # for space\n",
    "    print('welcome')"
   ]
  },
  {
   "cell_type": "code",
   "execution_count": null,
   "metadata": {},
   "outputs": [],
   "source": [
    "mm = ' ' '\n"
   ]
  }
 ],
 "metadata": {
  "kernelspec": {
   "display_name": "base",
   "language": "python",
   "name": "python3"
  },
  "language_info": {
   "codemirror_mode": {
    "name": "ipython",
    "version": 3
   },
   "file_extension": ".py",
   "mimetype": "text/x-python",
   "name": "python",
   "nbconvert_exporter": "python",
   "pygments_lexer": "ipython3",
   "version": "3.9.12"
  },
  "orig_nbformat": 4
 },
 "nbformat": 4,
 "nbformat_minor": 2
}
