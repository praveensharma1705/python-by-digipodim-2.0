{
 "cells": [
  {
   "cell_type": "markdown",
   "metadata": {},
   "source": [
    "programing functions\n",
    " - **predefined functions**\n",
    "       - *standard library*\n",
    "            - the function that are imported by default when executing python code\n",
    "       - library (modlue) functions\n",
    "            - preinstalled\n",
    "                   - for example\n",
    "                       - os\n",
    "                       - math\n",
    "                       - random\n",
    "                       - datetime\n",
    "            - *3rd party*\n",
    "                 - install with pip\n",
    "                        - pip install <package-name>\n",
    "                        - pip show <package-name>\n",
    "                 - install with conda\n",
    "                        - conda install <repo> <package-name>\n",
    " - **user defined functions**\n",
    "        - functions with name\n",
    "        - function without parameters and return value\n",
    "        - function with parameters \n",
    "                   - requried parameters\n",
    "                   - default parameters\n",
    "                   - named parameters\n",
    "                   - variable argument\n",
    "                   - keyword variable argument\n",
    "        - function with return value\n",
    "        - function with both parameters and return value\n",
    "        - generators\n",
    "  - functions without name\n",
    "        - lambda functions (ananymous function)"
   ]
  },
  {
   "cell_type": "code",
   "execution_count": 6,
   "metadata": {},
   "outputs": [],
   "source": [
    "# simple interst \n",
    "def si(p, r, t):\n",
    "    '''A function to calculate simple intrest '''\n",
    "    ans = p * r * t / 100\n",
    "    print(f'simple intrest is {ans:.2f}')"
   ]
  },
  {
   "cell_type": "code",
   "execution_count": 7,
   "metadata": {},
   "outputs": [
    {
     "name": "stdout",
     "output_type": "stream",
     "text": [
      "simple intrest is 100.00\n"
     ]
    }
   ],
   "source": [
    "si(1000, 5, 2)"
   ]
  },
  {
   "cell_type": "code",
   "execution_count": 8,
   "metadata": {},
   "outputs": [
    {
     "name": "stdout",
     "output_type": "stream",
     "text": [
      "\u001b[1;31mSignature:\u001b[0m \u001b[0msi\u001b[0m\u001b[1;33m(\u001b[0m\u001b[0mp\u001b[0m\u001b[1;33m,\u001b[0m \u001b[0mr\u001b[0m\u001b[1;33m,\u001b[0m \u001b[0mt\u001b[0m\u001b[1;33m)\u001b[0m\u001b[1;33m\u001b[0m\u001b[1;33m\u001b[0m\u001b[0m\n",
      "\u001b[1;31mDocstring:\u001b[0m <no docstring>\n",
      "\u001b[1;31mFile:\u001b[0m      c:\\users\\lenovo\\appdata\\local\\temp\\ipykernel_8896\\3056176630.py\n",
      "\u001b[1;31mType:\u001b[0m      function\n"
     ]
    }
   ],
   "source": [
    "si?\n"
   ]
  },
  {
   "cell_type": "code",
   "execution_count": 9,
   "metadata": {},
   "outputs": [],
   "source": [
    " # Initialize a list\n",
    "primes = []\n",
    "for possiblePrime in range(2, 21):\n",
    "    \n",
    "    # Assume number is prime until shown it is not. \n",
    "    isPrime = True\n",
    "    for num in range(2, possiblePrime):\n",
    "        if possiblePrime % num == 0:\n",
    "            isPrime = False\n",
    "      \n",
    "    if isPrime:\n",
    "        primes.append(possiblePrime)"
   ]
  },
  {
   "cell_type": "code",
   "execution_count": 10,
   "metadata": {},
   "outputs": [
    {
     "data": {
      "text/plain": [
       "[2, 3, 5, 7, 11, 13, 17, 19]"
      ]
     },
     "execution_count": 10,
     "metadata": {},
     "output_type": "execute_result"
    }
   ],
   "source": [
    "primes"
   ]
  },
  {
   "cell_type": "code",
   "execution_count": null,
   "metadata": {},
   "outputs": [],
   "source": []
  }
 ],
 "metadata": {
  "kernelspec": {
   "display_name": "base",
   "language": "python",
   "name": "python3"
  },
  "language_info": {
   "codemirror_mode": {
    "name": "ipython",
    "version": 3
   },
   "file_extension": ".py",
   "mimetype": "text/x-python",
   "name": "python",
   "nbconvert_exporter": "python",
   "pygments_lexer": "ipython3",
   "version": "3.9.12"
  },
  "orig_nbformat": 4
 },
 "nbformat": 4,
 "nbformat_minor": 2
}
