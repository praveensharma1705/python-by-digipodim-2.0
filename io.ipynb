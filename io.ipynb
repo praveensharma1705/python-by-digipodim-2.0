{
 "cells": [
  {
   "cell_type": "code",
   "execution_count": 1,
   "metadata": {},
   "outputs": [],
   "source": [
    "name = input(\"enter your name: \")\n",
    "city = input(\"enter the city: \")"
   ]
  },
  {
   "cell_type": "code",
   "execution_count": 2,
   "metadata": {},
   "outputs": [],
   "source": [
    "age = input(\"enter the age: \")"
   ]
  },
  {
   "cell_type": "code",
   "execution_count": 3,
   "metadata": {},
   "outputs": [
    {
     "data": {
      "text/plain": [
       "900"
      ]
     },
     "execution_count": 3,
     "metadata": {},
     "output_type": "execute_result"
    }
   ],
   "source": [
    "a = '900'\n",
    "int(a)"
   ]
  },
  {
   "cell_type": "code",
   "execution_count": 4,
   "metadata": {},
   "outputs": [
    {
     "name": "stdout",
     "output_type": "stream",
     "text": [
      "1521.0\n"
     ]
    }
   ],
   "source": [
    "p = int(input(\"enter the principal : \"))\n",
    "rate = int(input(\"enter the rate: \"))\n",
    "time = int(input(\"enter the time: \"))\n",
    "s_interest = (p*rate*time)/100\n",
    "print(s_interest)"
   ]
  },
  {
   "cell_type": "code",
   "execution_count": 5,
   "metadata": {},
   "outputs": [
    {
     "name": "stdout",
     "output_type": "stream",
     "text": [
      "119\n"
     ]
    }
   ],
   "source": [
    "x = int(input(\"Enter a number 1: \"))\n",
    "y = int(input(\"Eneter the number 2 : \"))\n",
    "add = x + y\n",
    "print(add)"
   ]
  },
  {
   "cell_type": "code",
   "execution_count": 6,
   "metadata": {},
   "outputs": [
    {
     "name": "stdout",
     "output_type": "stream",
     "text": [
      "our numbers 54 65\n"
     ]
    }
   ],
   "source": [
    "print(\"our numbers\",x,y)"
   ]
  },
  {
   "cell_type": "code",
   "execution_count": 7,
   "metadata": {},
   "outputs": [
    {
     "name": "stdout",
     "output_type": "stream",
     "text": [
      "54\n",
      "65\n",
      "praveen\n",
      "22\n",
      "lucknow\n"
     ]
    }
   ],
   "source": [
    "print(x,y,name,age,city,sep=\"\\n\")"
   ]
  },
  {
   "cell_type": "code",
   "execution_count": 8,
   "metadata": {},
   "outputs": [
    {
     "name": "stdout",
     "output_type": "stream",
     "text": [
      "54 65 praveen 22 lucknow\n"
     ]
    }
   ],
   "source": [
    "print(x,y,name,age,city)"
   ]
  },
  {
   "cell_type": "code",
   "execution_count": 9,
   "metadata": {},
   "outputs": [
    {
     "name": "stdout",
     "output_type": "stream",
     "text": [
      "hi there\n"
     ]
    }
   ],
   "source": [
    "print('hi', end=' ')\n",
    "print('there')"
   ]
  },
  {
   "cell_type": "code",
   "execution_count": 10,
   "metadata": {},
   "outputs": [
    {
     "name": "stdout",
     "output_type": "stream",
     "text": [
      "adding 54 with 65 will give 119\n"
     ]
    }
   ],
   "source": [
    "#formattable string\n",
    "\n",
    "print(f'adding {x} with {y} will give {x+y}')"
   ]
  },
  {
   "cell_type": "code",
   "execution_count": 11,
   "metadata": {},
   "outputs": [
    {
     "name": "stdout",
     "output_type": "stream",
     "text": [
      "10/3 = 3.33\n"
     ]
    }
   ],
   "source": [
    "#f string floating value\n",
    "\n",
    "a =10\n",
    "b=3\n",
    "print(f'{a}/{b} = {a/b:.2f}')"
   ]
  },
  {
   "cell_type": "code",
   "execution_count": 12,
   "metadata": {},
   "outputs": [
    {
     "name": "stdout",
     "output_type": "stream",
     "text": [
      "name = praveen\n",
      "age = 22\n",
      "city = lucknow\n"
     ]
    }
   ],
   "source": [
    "#f string alignment\n",
    "\n",
    "print(f'name = {name}')\n",
    "print(f'age = {age}')\n",
    "print(f'city = {city}')"
   ]
  },
  {
   "cell_type": "code",
   "execution_count": 13,
   "metadata": {},
   "outputs": [
    {
     "name": "stdout",
     "output_type": "stream",
     "text": [
      "name  praveen\n",
      "age   22\n",
      "city  lucknow\n"
     ]
    }
   ],
   "source": [
    "print(f'name  {name}')\n",
    "print(f'age   {age}')\n",
    "print(f'city  {city}')"
   ]
  },
  {
   "cell_type": "code",
   "execution_count": 14,
   "metadata": {},
   "outputs": [
    {
     "name": "stdout",
     "output_type": "stream",
     "text": [
      "name      praveen\n",
      "age       22\n",
      "city      lucknow\n"
     ]
    }
   ],
   "source": [
    "print(f'{\"name\":10}{name}')\n",
    "print(f'{\"age\":10}{age}')\n",
    "print(f'{\"city\":10}{city}')"
   ]
  },
  {
   "cell_type": "code",
   "execution_count": 15,
   "metadata": {},
   "outputs": [
    {
     "name": "stdout",
     "output_type": "stream",
     "text": [
      "name                                  praveen\n",
      "age                                        22\n",
      "city                                  lucknow\n"
     ]
    }
   ],
   "source": [
    "print(f'{\"name\":10}{name:>35}')\n",
    "print(f'{\"age\":10}{age:>35}')\n",
    "print(f'{\"city\":10}{city:>35}')"
   ]
  },
  {
   "cell_type": "code",
   "execution_count": 16,
   "metadata": {},
   "outputs": [
    {
     "name": "stdout",
     "output_type": "stream",
     "text": [
      "name                    praveen              \n",
      "age                       22                 \n",
      "city                    lucknow              \n"
     ]
    }
   ],
   "source": [
    "print(f'{\"name\":10}{name:^35}')\n",
    "print(f'{\"age\":10}{age:^35}')\n",
    "print(f'{\"city\":10}{city:^35}')"
   ]
  },
  {
   "cell_type": "code",
   "execution_count": 17,
   "metadata": {},
   "outputs": [
    {
     "name": "stdout",
     "output_type": "stream",
     "text": [
      "hypotenuse is 71.8\n"
     ]
    }
   ],
   "source": [
    "#write a program for pythgoras theorem\n",
    "\n",
    "pe = int(input(\"Enter the perpendicular: \"))\n",
    "ba = int(input(\"enter the base: \"))\n",
    "hy = (pe**2 + ba**2)**0.5\n",
    "print(f'hypotenuse is {hy:.1f}')"
   ]
  },
  {
   "cell_type": "code",
   "execution_count": null,
   "metadata": {},
   "outputs": [],
   "source": []
  }
 ],
 "metadata": {
  "kernelspec": {
   "display_name": "base",
   "language": "python",
   "name": "python3"
  },
  "language_info": {
   "codemirror_mode": {
    "name": "ipython",
    "version": 3
   },
   "file_extension": ".py",
   "mimetype": "text/x-python",
   "name": "python",
   "nbconvert_exporter": "python",
   "pygments_lexer": "ipython3",
   "version": "3.9.12"
  },
  "orig_nbformat": 4
 },
 "nbformat": 4,
 "nbformat_minor": 2
}
