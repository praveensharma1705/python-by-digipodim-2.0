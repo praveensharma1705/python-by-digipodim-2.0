{
 "cells": [
  {
   "cell_type": "code",
   "execution_count": 2,
   "metadata": {},
   "outputs": [
    {
     "name": "stdout",
     "output_type": "stream",
     "text": [
      "{'first name': 'Rajesh', 'last name': 'kumar', 'age': 25, 'address': {'house no': 123, 'street': 'MG Road', 'city': 'Bangalor', 'state': 'karnataka'}}\n"
     ]
    }
   ],
   "source": [
    "raju = {\n",
    "    'first name' : 'Rajesh',\n",
    "    'last name' : 'kumar' ,\n",
    "    'age' : 25,\n",
    "    'address' :{\n",
    "        'house no' : 123,\n",
    "        'street' : 'MG Road',\n",
    "        'city' : 'Bangalor',\n",
    "        'state' : 'karnataka'\n",
    "    }\n",
    "}\n",
    "\n",
    "print(raju)"
   ]
  },
  {
   "cell_type": "code",
   "execution_count": 4,
   "metadata": {},
   "outputs": [
    {
     "name": "stdout",
     "output_type": "stream",
     "text": [
      "Rajesh\n",
      "25\n",
      "Bangalor\n"
     ]
    }
   ],
   "source": [
    "print(raju['first name'])\n",
    "print(raju['age'])\n",
    "print(raju['address'] ['city'])\n"
   ]
  },
  {
   "cell_type": "code",
   "execution_count": 6,
   "metadata": {},
   "outputs": [
    {
     "name": "stdout",
     "output_type": "stream",
     "text": [
      "Rajesh\n",
      "None\n",
      "not found\n"
     ]
    }
   ],
   "source": [
    "print(raju.get('first name', 'not found')) # default value optional\n",
    "print(raju.get('middle name'))\n",
    "print(raju.get('middle name', 'not found')) # default value optional"
   ]
  },
  {
   "cell_type": "code",
   "execution_count": 7,
   "metadata": {},
   "outputs": [
    {
     "name": "stdout",
     "output_type": "stream",
     "text": [
      "{'first name': 'Rajesh', 'last name': 'kumar', 'age': 24, 'address': {'house no': 123, 'street': 'MG Road', 'city': 'Bangalor', 'state': 'karnataka'}}\n"
     ]
    }
   ],
   "source": [
    "#  update value of a key\n",
    "raju['age'] = 24\n",
    "print(raju)"
   ]
  },
  {
   "cell_type": "code",
   "execution_count": 8,
   "metadata": {},
   "outputs": [
    {
     "name": "stdout",
     "output_type": "stream",
     "text": [
      "{'first name': 'Rajesh', 'last name': 'kumar', 'age': 24, 'address': {'house no': 123, 'street': 'MG Road', 'city': 'Bangalor', 'state': 'karnataka', 'country': 'India'}, 'middle name': 'Arun', 'phone': '7849548510'}\n"
     ]
    }
   ],
   "source": [
    "# adding an entry\n",
    "raju['middle name'] = 'Arun'\n",
    "raju['address']['country'] = 'India'\n",
    "raju['phone'] = '7849548510'\n",
    "\n",
    "print(raju)"
   ]
  },
  {
   "cell_type": "code",
   "execution_count": 9,
   "metadata": {},
   "outputs": [
    {
     "data": {
      "text/plain": [
       "'Arun'"
      ]
     },
     "execution_count": 9,
     "metadata": {},
     "output_type": "execute_result"
    }
   ],
   "source": [
    "# remove an entry\n",
    "raju.pop('middle name')"
   ]
  },
  {
   "cell_type": "code",
   "execution_count": null,
   "metadata": {},
   "outputs": [],
   "source": [
    "# clear dictonry\n",
    "raju.clear"
   ]
  },
  {
   "cell_type": "code",
   "execution_count": 10,
   "metadata": {},
   "outputs": [
    {
     "name": "stdout",
     "output_type": "stream",
     "text": [
      "dict_keys(['first name', 'last name', 'age', 'address', 'phone'])\n",
      "dict_values(['Rajesh', 'kumar', 24, {'house no': 123, 'street': 'MG Road', 'city': 'Bangalor', 'state': 'karnataka', 'country': 'India'}, '7849548510'])\n",
      "dict_items([('first name', 'Rajesh'), ('last name', 'kumar'), ('age', 24), ('address', {'house no': 123, 'street': 'MG Road', 'city': 'Bangalor', 'state': 'karnataka', 'country': 'India'}), ('phone', '7849548510')])\n"
     ]
    }
   ],
   "source": [
    "# list all keys \n",
    "print(raju.keys())\n",
    "# list all values\n",
    "print(raju.values())\n",
    "# list all key-values pairs\n",
    "print(raju.items())"
   ]
  },
  {
   "cell_type": "code",
   "execution_count": 11,
   "metadata": {},
   "outputs": [
    {
     "name": "stdout",
     "output_type": "stream",
     "text": [
      "Rajesh\n",
      "kumar\n",
      "24\n",
      "{'house no': 123, 'street': 'MG Road', 'city': 'Bangalor', 'state': 'karnataka', 'country': 'India'}\n",
      "7849548510\n"
     ]
    }
   ],
   "source": [
    "for key in raju:\n",
    "    print(raju[key])"
   ]
  },
  {
   "cell_type": "code",
   "execution_count": 12,
   "metadata": {},
   "outputs": [
    {
     "name": "stdout",
     "output_type": "stream",
     "text": [
      "first name Rajesh\n",
      "last name kumar\n",
      "age 24\n",
      "address {'house no': 123, 'street': 'MG Road', 'city': 'Bangalor', 'state': 'karnataka', 'country': 'India'}\n",
      "phone 7849548510\n"
     ]
    }
   ],
   "source": [
    "for k, v in raju.items():\n",
    "    print(k, v)"
   ]
  },
  {
   "cell_type": "code",
   "execution_count": 18,
   "metadata": {},
   "outputs": [],
   "source": [
    "# create a dictinory of 5 employees of account dept in a ACME comppany\n",
    "acme ={\n",
    "    'account' : {    }\n",
    "}\n",
    "\n",
    "for i in range(5):\n",
    "    name = input('enter name: ')\n",
    "    desig = input('enter dessignation:')\n",
    "    sal = int(input('enetr salary: '))\n",
    "    acme['account'][f'emp{i}'] = {\n",
    "        'name' : name,\n",
    "        'designation' : desig,\n",
    "        'salary' : sal\n",
    "    }"
   ]
  },
  {
   "cell_type": "code",
   "execution_count": 19,
   "metadata": {},
   "outputs": [],
   "source": [
    "from pprint import pp"
   ]
  },
  {
   "cell_type": "code",
   "execution_count": 20,
   "metadata": {},
   "outputs": [
    {
     "name": "stdout",
     "output_type": "stream",
     "text": [
      "{'account': {'emp0': {'name': 'Ravi', 'designation': 'SO', 'salary': 45000},\n",
      "             'emp1': {'name': 'Vivek', 'designation': 'ARO', 'salary': 65000},\n",
      "             'emp2': {'name': 'Tej', 'designation': 'Cleark', 'salary': 23000},\n",
      "             'emp3': {'name': 'Sonali',\n",
      "                      'designation': 'Assitant ',\n",
      "                      'salary': 40000},\n",
      "             'emp4': {'name': 'Ashu',\n",
      "                      'designation': 'Accountent',\n",
      "                      'salary': 75000}}}\n"
     ]
    }
   ],
   "source": [
    "pp(acme)"
   ]
  },
  {
   "cell_type": "code",
   "execution_count": 24,
   "metadata": {},
   "outputs": [
    {
     "name": "stdout",
     "output_type": "stream",
     "text": [
      "45000\n",
      "110000\n",
      "133000\n",
      "173000\n",
      "248000\n"
     ]
    }
   ],
   "source": [
    "total = 0\n",
    "for v in acme['account'].values():\n",
    "    total += int(v['salary'])\n",
    "    print(total)"
   ]
  },
  {
   "cell_type": "code",
   "execution_count": 25,
   "metadata": {},
   "outputs": [
    {
     "name": "stdout",
     "output_type": "stream",
     "text": [
      "45000\n",
      "110000\n",
      "133000\n",
      "173000\n",
      "248000\n"
     ]
    }
   ],
   "source": [
    "answer = 0\n",
    "for emp in acme['account']:\n",
    "    answer += acme['account'][emp]['salary']\n",
    "    print(answer)"
   ]
  },
  {
   "cell_type": "code",
   "execution_count": 26,
   "metadata": {},
   "outputs": [
    {
     "name": "stdout",
     "output_type": "stream",
     "text": [
      "✅ found contact\n",
      "name Police\n",
      "number 112\n",
      "❌ contact not found\n",
      "add contact\n",
      "✅ conytact added\n"
     ]
    }
   ],
   "source": [
    "# create a contact dicitonary and \n",
    "# let user check if a contact details\n",
    "# if yes, print the contact details\n",
    "# if no, ask user to add the contact\n",
    "\n",
    "contacts ={'Police' : 112}\n",
    "while True:\n",
    "    contact_name = input('Enter contact name: ')\n",
    "    if contact_name in contacts:\n",
    "        print('✅ found contact')\n",
    "        print('name',contact_name)\n",
    "        print('number',contacts[contact_name])\n",
    "    elif contact_name == 'exit' :\n",
    "        break\n",
    "    else:\n",
    "        print('❌ contact not found')\n",
    "        print('add contact')\n",
    "        contact_number = input('enter contact number: ')\n",
    "        contacts [contact_name] = contact_number\n",
    "        print('✅ conytact added')"
   ]
  },
  {
   "cell_type": "code",
   "execution_count": null,
   "metadata": {},
   "outputs": [],
   "source": []
  }
 ],
 "metadata": {
  "kernelspec": {
   "display_name": "base",
   "language": "python",
   "name": "python3"
  },
  "language_info": {
   "codemirror_mode": {
    "name": "ipython",
    "version": 3
   },
   "file_extension": ".py",
   "mimetype": "text/x-python",
   "name": "python",
   "nbconvert_exporter": "python",
   "pygments_lexer": "ipython3",
   "version": "3.9.12"
  },
  "orig_nbformat": 4
 },
 "nbformat": 4,
 "nbformat_minor": 2
}
