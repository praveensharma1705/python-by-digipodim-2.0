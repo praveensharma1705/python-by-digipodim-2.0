{
 "cells": [
  {
   "cell_type": "markdown",
   "metadata": {},
   "source": [
    "## data-structure\n",
    "    - list 😊\n",
    "           - index, ordered, mutable, '[]'\n",
    "    - tuple\n",
    "           - index, ordered, **immutable**, '()'\n",
    "    - set\n",
    "           - **unindexed**, **unordered**, mutable, **no-duplicate** { }\n",
    "    - dictionary 😊\n",
    "           - **unindexed**, **key-value pairs**, mutable, { }"
   ]
  },
  {
   "cell_type": "code",
   "execution_count": 2,
   "metadata": {},
   "outputs": [],
   "source": [
    "# creating a list\n",
    "x = [] #empty list\n",
    "y = [1,2,3,4,5] # list of integers\n",
    "z = ['sunday', 'monday', 'holiday']\n",
    "grocery = ['milk', 55, 'bread', 20, 'butter', 49]\n",
    "info = [[1,2,3], [4,5,6], [7,8], [9,10,11,12]] #nested list\n",
    "a = [1] * 15 # list of 15 elements with ones"
   ]
  },
  {
   "cell_type": "code",
   "execution_count": 4,
   "metadata": {},
   "outputs": [],
   "source": [
    "x.append(10)\n",
    "x.append(input('enter a name: '))"
   ]
  },
  {
   "cell_type": "code",
   "execution_count": 6,
   "metadata": {},
   "outputs": [
    {
     "name": "stdout",
     "output_type": "stream",
     "text": [
      "[10, 'bread', 10, 'praveen', 45, 75, 20, 10]\n",
      "[10, 'bread', 10, 'praveen', 45, 75, 20, 10, 100]\n",
      "[10, 'bread', 10, 'praveen', 45, 75, 20, 10, 100, 12]\n"
     ]
    }
   ],
   "source": [
    "for i in range(3):\n",
    "    val = int(input('enter a number: '))\n",
    "    x.append(val)\n",
    "    print(x)"
   ]
  },
  {
   "cell_type": "code",
   "execution_count": 7,
   "metadata": {},
   "outputs": [],
   "source": [
    "del info # delete the variable info from memory"
   ]
  },
  {
   "cell_type": "code",
   "execution_count": 8,
   "metadata": {},
   "outputs": [
    {
     "name": "stdout",
     "output_type": "stream",
     "text": [
      "10 12 bread\n",
      "[10, 'bread']\n",
      "[10, 100, 12]\n",
      "[12, 100, 10, 20, 75, 45, 'praveen', 10, 'bread', 10]\n"
     ]
    }
   ],
   "source": [
    "print(x[0], x[-1], x[1])\n",
    "print(x[:2]) # slicing first two element\n",
    "print(x[-3:]) # sclicing last three elements\n",
    "print(x[::-1]) # reverse the list"
   ]
  },
  {
   "cell_type": "code",
   "execution_count": 10,
   "metadata": {},
   "outputs": [
    {
     "name": "stdout",
     "output_type": "stream",
     "text": [
      "10 bread 10 praveen 45 75 20 10 100 12 "
     ]
    }
   ],
   "source": [
    "for i in x:\n",
    "    print(i, end=' ')"
   ]
  },
  {
   "cell_type": "markdown",
   "metadata": {},
   "source": [
    "-List Functions\n",
    "   -adding \n",
    "       -append() - add single item to the end\n",
    "       -insert() - insert single item at given index\n",
    "       -extend() - merge an list to an existing"
   ]
  },
  {
   "cell_type": "code",
   "execution_count": null,
   "metadata": {},
   "outputs": [],
   "source": []
  }
 ],
 "metadata": {
  "kernelspec": {
   "display_name": "base",
   "language": "python",
   "name": "python3"
  },
  "language_info": {
   "codemirror_mode": {
    "name": "ipython",
    "version": 3
   },
   "file_extension": ".py",
   "mimetype": "text/x-python",
   "name": "python",
   "nbconvert_exporter": "python",
   "pygments_lexer": "ipython3",
   "version": "3.9.12"
  },
  "orig_nbformat": 4
 },
 "nbformat": 4,
 "nbformat_minor": 2
}
